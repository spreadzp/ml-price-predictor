{
  "nbformat": 4,
  "nbformat_minor": 0,
  "metadata": {
    "colab": {
      "name": "fashion_mnist_dense.ipynb",
      "provenance": [],
      "include_colab_link": true
    },
    "kernelspec": {
      "name": "python3",
      "display_name": "Python 3"
    },
    "accelerator": "GPU"
  },
  "cells": [
    {
      "cell_type": "markdown",
      "metadata": {
        "id": "view-in-github",
        "colab_type": "text"
      },
      "source": [
        "<a href=\"https://colab.research.google.com/github/spreadzp/ml-price-predictor/blob/master/fashion_mnist_dense.ipynb\" target=\"_parent\"><img src=\"https://colab.research.google.com/assets/colab-badge.svg\" alt=\"Open In Colab\"/></a>"
      ]
    },
    {
      "cell_type": "markdown",
      "metadata": {
        "id": "Ah7dy1kFL2H9",
        "colab_type": "text"
      },
      "source": [
        "# Распознавание моделей одежды с помощью Keras\n",
        "\n",
        "Чтобы запускать и редактировать код, сохраните копию этого ноутбука себе (File->Save a copy in Drive...). Свою копию вы сможете изменять и запускать.\n",
        "\n",
        "Учебный курс \"[Программирование глубоких нейронных сетей на Python](https://www.asozykin.ru/courses/nnpython)\"."
      ]
    },
    {
      "cell_type": "code",
      "metadata": {
        "id": "qrfd6FzSLrE2",
        "colab_type": "code",
        "colab": {
          "base_uri": "https://localhost:8080/",
          "height": 63
        },
        "outputId": "a493840b-cf13-4075-c387-40cc8d6f060e"
      },
      "source": [
        "from tensorflow.keras.datasets import fashion_mnist\n",
        "from tensorflow.keras.models import Sequential\n",
        "from tensorflow.keras.layers import Dense, Dropout\n",
        "from tensorflow.keras import utils\n",
        "from tensorflow.keras.preprocessing import image\n",
        "import numpy as np\n",
        "import matplotlib.pyplot as plt\n",
        "%matplotlib inline "
      ],
      "execution_count": 1,
      "outputs": [
        {
          "output_type": "display_data",
          "data": {
            "text/html": [
              "<p style=\"color: red;\">\n",
              "The default version of TensorFlow in Colab will soon switch to TensorFlow 2.x.<br>\n",
              "We recommend you <a href=\"https://www.tensorflow.org/guide/migrate\" target=\"_blank\">upgrade</a> now \n",
              "or ensure your notebook will continue to use TensorFlow 1.x via the <code>%tensorflow_version 1.x</code> magic:\n",
              "<a href=\"https://colab.research.google.com/notebooks/tensorflow_version.ipynb\" target=\"_blank\">more info</a>.</p>\n"
            ],
            "text/plain": [
              "<IPython.core.display.HTML object>"
            ]
          },
          "metadata": {
            "tags": []
          }
        }
      ]
    },
    {
      "cell_type": "markdown",
      "metadata": {
        "id": "xiurjCBVMDTG",
        "colab_type": "text"
      },
      "source": [
        "## Подготовка данных для обучения сети"
      ]
    },
    {
      "cell_type": "markdown",
      "metadata": {
        "id": "1yDF75Cx8VPz",
        "colab_type": "text"
      },
      "source": [
        "**Загружаем набор данных**"
      ]
    },
    {
      "cell_type": "code",
      "metadata": {
        "id": "E5L3LUIi8PDV",
        "colab_type": "code",
        "outputId": "c4b92da3-e252-44fc-9b5b-876cb3c5a9a8",
        "colab": {
          "base_uri": "https://localhost:8080/",
          "height": 158
        }
      },
      "source": [
        "# В Keras встроены средства работы с популярными наборами данных\n",
        "(x_train, y_train), (x_test, y_test) = fashion_mnist.load_data()"
      ],
      "execution_count": 2,
      "outputs": [
        {
          "output_type": "stream",
          "text": [
            "Downloading data from https://storage.googleapis.com/tensorflow/tf-keras-datasets/train-labels-idx1-ubyte.gz\n",
            "32768/29515 [=================================] - 0s 0us/step\n",
            "Downloading data from https://storage.googleapis.com/tensorflow/tf-keras-datasets/train-images-idx3-ubyte.gz\n",
            "26427392/26421880 [==============================] - 1s 0us/step\n",
            "Downloading data from https://storage.googleapis.com/tensorflow/tf-keras-datasets/t10k-labels-idx1-ubyte.gz\n",
            "8192/5148 [===============================================] - 0s 0us/step\n",
            "Downloading data from https://storage.googleapis.com/tensorflow/tf-keras-datasets/t10k-images-idx3-ubyte.gz\n",
            "4423680/4422102 [==============================] - 0s 0us/step\n"
          ],
          "name": "stdout"
        }
      ]
    },
    {
      "cell_type": "markdown",
      "metadata": {
        "id": "pInj9ORInZGV",
        "colab_type": "text"
      },
      "source": [
        "Список с названиями классов"
      ]
    },
    {
      "cell_type": "code",
      "metadata": {
        "id": "90LpN34CnXwW",
        "colab_type": "code",
        "colab": {}
      },
      "source": [
        "classes = ['футболка', 'брюки', 'свитер', 'платье', 'пальто', 'туфли', 'рубашка', 'кроссовки', 'сумка', 'ботинки']"
      ],
      "execution_count": 0,
      "outputs": []
    },
    {
      "cell_type": "markdown",
      "metadata": {
        "id": "nzysANKIZTzU",
        "colab_type": "text"
      },
      "source": [
        "Просматриваем примеры изображений"
      ]
    },
    {
      "cell_type": "code",
      "metadata": {
        "id": "zKgdfc3kB1aV",
        "colab_type": "code",
        "outputId": "f5d17c9f-a546-4ac0-e008-139031b35d18",
        "colab": {
          "base_uri": "https://localhost:8080/",
          "height": 542
        }
      },
      "source": [
        "plt.figure(figsize=(10,10))\n",
        "for i in range(100,150):\n",
        "    plt.subplot(5,10,i-100+1)\n",
        "    plt.xticks([])\n",
        "    plt.yticks([])\n",
        "    plt.grid(False)\n",
        "    plt.imshow(x_train[i], cmap=plt.cm.binary)\n",
        "    plt.xlabel(classes[y_train[i]])"
      ],
      "execution_count": 4,
      "outputs": [
        {
          "output_type": "display_data",
          "data": {
            "image/png": "[encoded data removed]",
            "text/plain": [
              "<Figure size 720x720 with 50 Axes>"
            ]
          },
          "metadata": {
            "tags": []
          }
        }
      ]
    },
    {
      "cell_type": "markdown",
      "metadata": {
        "id": "7uXTnIojJLbl",
        "colab_type": "text"
      },
      "source": [
        "**Преобразование размерности данных в наборе**"
      ]
    },
    {
      "cell_type": "code",
      "metadata": {
        "id": "GBAqLKjGJJ-V",
        "colab_type": "code",
        "colab": {}
      },
      "source": [
        "x_train = x_train.reshape(60000, 784)"
      ],
      "execution_count": 0,
      "outputs": []
    },
    {
      "cell_type": "markdown",
      "metadata": {
        "id": "hDaHO5LgJYxU",
        "colab_type": "text"
      },
      "source": [
        "**Нормализация данных**"
      ]
    },
    {
      "cell_type": "code",
      "metadata": {
        "id": "rscaAuBNJdq9",
        "colab_type": "code",
        "colab": {}
      },
      "source": [
        "# Векторизованные операции\n",
        "# Применяются к каждому элементу массива отдельно\n",
        "x_train = x_train / 255 "
      ],
      "execution_count": 0,
      "outputs": []
    },
    {
      "cell_type": "markdown",
      "metadata": {
        "id": "KRcMlNzqJk1t",
        "colab_type": "text"
      },
      "source": [
        "**Работа с правильными ответами**"
      ]
    },
    {
      "cell_type": "markdown",
      "metadata": {
        "id": "0OLUsQbdZ6Qs",
        "colab_type": "text"
      },
      "source": [
        "Просматриваем пример правильного ответа"
      ]
    },
    {
      "cell_type": "code",
      "metadata": {
        "id": "A5lKe_syJqPu",
        "colab_type": "code",
        "outputId": "435c5366-2aec-4b12-f6a6-a5fc4029183a",
        "colab": {
          "base_uri": "https://localhost:8080/",
          "height": 34
        }
      },
      "source": [
        "print(y_train[0])"
      ],
      "execution_count": 7,
      "outputs": [
        {
          "output_type": "stream",
          "text": [
            "9\n"
          ],
          "name": "stdout"
        }
      ]
    },
    {
      "cell_type": "markdown",
      "metadata": {
        "id": "zqJ9GA1kJxBF",
        "colab_type": "text"
      },
      "source": [
        "**Преобразуем метки в формат one hot encoding**"
      ]
    },
    {
      "cell_type": "code",
      "metadata": {
        "id": "zQnasUyyJ3cG",
        "colab_type": "code",
        "colab": {}
      },
      "source": [
        "y_train = utils.to_categorical(y_train, 10)"
      ],
      "execution_count": 0,
      "outputs": []
    },
    {
      "cell_type": "markdown",
      "metadata": {
        "id": "KfuqlyjHJ_ye",
        "colab_type": "text"
      },
      "source": [
        "**Правильный ответ в формате one hot encoding**"
      ]
    },
    {
      "cell_type": "code",
      "metadata": {
        "id": "9zUfd1aeKH3e",
        "colab_type": "code",
        "outputId": "7678d848-db82-4d47-acfc-b8706c4a8c17",
        "colab": {
          "base_uri": "https://localhost:8080/",
          "height": 34
        }
      },
      "source": [
        "print(y_train[0])"
      ],
      "execution_count": 9,
      "outputs": [
        {
          "output_type": "stream",
          "text": [
            "[0. 0. 0. 0. 0. 0. 0. 0. 0. 1.]\n"
          ],
          "name": "stdout"
        }
      ]
    },
    {
      "cell_type": "markdown",
      "metadata": {
        "id": "BmTr_lXTKNbN",
        "colab_type": "text"
      },
      "source": [
        "## Создаем нейронную сеть"
      ]
    },
    {
      "cell_type": "markdown",
      "metadata": {
        "id": "Q3QzIVtBMQRG",
        "colab_type": "text"
      },
      "source": [
        "**Описываем архитектуру нейронной сети**"
      ]
    },
    {
      "cell_type": "code",
      "metadata": {
        "id": "kYVSvpNIMSnG",
        "colab_type": "code",
        "outputId": "3c88f5a4-2d47-489c-f917-378c850c686f",
        "colab": {
          "base_uri": "https://localhost:8080/",
          "height": 90
        }
      },
      "source": [
        "# Создаем последовательную модель\n",
        "model = Sequential()\n",
        "# Входной полносвязный слой, 800 нейронов, 784 входа в каждый нейрон\n",
        "model.add(Dense(800, input_dim=784, activation=\"relu\"))\n",
        "# Выходной полносвязный слой, 10 нейронов (по количеству рукописных цифр)\n",
        "model.add(Dense(10, activation=\"softmax\"))"
      ],
      "execution_count": 10,
      "outputs": [
        {
          "output_type": "stream",
          "text": [
            "WARNING:tensorflow:From /usr/local/lib/python3.6/dist-packages/tensorflow_core/python/ops/resource_variable_ops.py:1630: calling BaseResourceVariable.__init__ (from tensorflow.python.ops.resource_variable_ops) with constraint is deprecated and will be removed in a future version.\n",
            "Instructions for updating:\n",
            "If using Keras pass *_constraint arguments to layers.\n"
          ],
          "name": "stdout"
        }
      ]
    },
    {
      "cell_type": "markdown",
      "metadata": {
        "id": "G__m76T-KWhd",
        "colab_type": "text"
      },
      "source": [
        "**Компилируем сеть**"
      ]
    },
    {
      "cell_type": "code",
      "metadata": {
        "id": "PTcbSxchKZjd",
        "colab_type": "code",
        "outputId": "24590d6d-34d8-489b-e13a-2a4e49cce4de",
        "colab": {
          "base_uri": "https://localhost:8080/",
          "height": 247
        }
      },
      "source": [
        "model.compile(loss=\"categorical_crossentropy\", optimizer=\"SGD\", metrics=[\"accuracy\"])\n",
        "\n",
        "print(model.summary())"
      ],
      "execution_count": 11,
      "outputs": [
        {
          "output_type": "stream",
          "text": [
            "Model: \"sequential\"\n",
            "_________________________________________________________________\n",
            "Layer (type)                 Output Shape              Param #   \n",
            "=================================================================\n",
            "dense (Dense)                (None, 800)               628000    \n",
            "_________________________________________________________________\n",
            "dense_1 (Dense)              (None, 10)                8010      \n",
            "=================================================================\n",
            "Total params: 636,010\n",
            "Trainable params: 636,010\n",
            "Non-trainable params: 0\n",
            "_________________________________________________________________\n",
            "None\n"
          ],
          "name": "stdout"
        }
      ]
    },
    {
      "cell_type": "markdown",
      "metadata": {
        "id": "lspCHiaCKl72",
        "colab_type": "text"
      },
      "source": [
        "## Обучаем нейронную сеть"
      ]
    },
    {
      "cell_type": "code",
      "metadata": {
        "id": "H6EIXu1dKoju",
        "colab_type": "code",
        "outputId": "8f85abf4-2082-47eb-ecbf-e25b27675fe2",
        "colab": {
          "base_uri": "https://localhost:8080/",
          "height": 1000
        }
      },
      "source": [
        "model.fit(x_train, y_train, \n",
        "          batch_size=200, \n",
        "          epochs=100,  \n",
        "          verbose=1)"
      ],
      "execution_count": 12,
      "outputs": [
        {
          "output_type": "stream",
          "text": [
            "Train on 60000 samples\n",
            "Epoch 1/100\n",
            "60000/60000 [==============================] - 2s 28us/sample - loss: 1.1438 - acc: 0.6586\n",
            "Epoch 2/100\n",
            "60000/60000 [==============================] - 1s 15us/sample - loss: 0.7245 - acc: 0.7742\n",
            "Epoch 3/100\n",
            "60000/60000 [==============================] - 1s 15us/sample - loss: 0.6312 - acc: 0.8008\n",
            "Epoch 4/100\n",
            "60000/60000 [==============================] - 1s 15us/sample - loss: 0.5819 - acc: 0.8144\n",
            "Epoch 5/100\n",
            "60000/60000 [==============================] - 1s 15us/sample - loss: 0.5497 - acc: 0.8232\n",
            "Epoch 6/100\n",
            "60000/60000 [==============================] - 1s 15us/sample - loss: 0.5271 - acc: 0.8282\n",
            "Epoch 7/100\n",
            "60000/60000 [==============================] - 1s 14us/sample - loss: 0.5102 - acc: 0.8321\n",
            "Epoch 8/100\n",
            "60000/60000 [==============================] - 1s 15us/sample - loss: 0.4962 - acc: 0.8350\n",
            "Epoch 9/100\n",
            "60000/60000 [==============================] - 1s 15us/sample - loss: 0.4849 - acc: 0.8378\n",
            "Epoch 10/100\n",
            "60000/60000 [==============================] - 1s 15us/sample - loss: 0.4756 - acc: 0.8406\n",
            "Epoch 11/100\n",
            "60000/60000 [==============================] - 1s 15us/sample - loss: 0.4674 - acc: 0.8432\n",
            "Epoch 12/100\n",
            "60000/60000 [==============================] - 1s 15us/sample - loss: 0.4604 - acc: 0.8450\n",
            "Epoch 13/100\n",
            "60000/60000 [==============================] - 1s 15us/sample - loss: 0.4537 - acc: 0.8471\n",
            "Epoch 14/100\n",
            "60000/60000 [==============================] - 1s 15us/sample - loss: 0.4482 - acc: 0.8482\n",
            "Epoch 15/100\n",
            "60000/60000 [==============================] - 1s 15us/sample - loss: 0.4428 - acc: 0.8495\n",
            "Epoch 16/100\n",
            "60000/60000 [==============================] - 1s 15us/sample - loss: 0.4376 - acc: 0.8516\n",
            "Epoch 17/100\n",
            "60000/60000 [==============================] - 1s 15us/sample - loss: 0.4332 - acc: 0.8529\n",
            "Epoch 18/100\n",
            "60000/60000 [==============================] - 1s 15us/sample - loss: 0.4289 - acc: 0.8536\n",
            "Epoch 19/100\n",
            "60000/60000 [==============================] - 1s 15us/sample - loss: 0.4253 - acc: 0.8546\n",
            "Epoch 20/100\n",
            "60000/60000 [==============================] - 1s 15us/sample - loss: 0.4214 - acc: 0.8573\n",
            "Epoch 21/100\n",
            "60000/60000 [==============================] - 1s 15us/sample - loss: 0.4177 - acc: 0.8583\n",
            "Epoch 22/100\n",
            "60000/60000 [==============================] - 1s 15us/sample - loss: 0.4151 - acc: 0.8589\n",
            "Epoch 23/100\n",
            "60000/60000 [==============================] - 1s 15us/sample - loss: 0.4117 - acc: 0.8593\n",
            "Epoch 24/100\n",
            "60000/60000 [==============================] - 1s 15us/sample - loss: 0.4086 - acc: 0.8608\n",
            "Epoch 25/100\n",
            "60000/60000 [==============================] - 1s 15us/sample - loss: 0.4056 - acc: 0.8618\n",
            "Epoch 26/100\n",
            "60000/60000 [==============================] - 1s 15us/sample - loss: 0.4029 - acc: 0.8624\n",
            "Epoch 27/100\n",
            "60000/60000 [==============================] - 1s 15us/sample - loss: 0.4002 - acc: 0.8639\n",
            "Epoch 28/100\n",
            "60000/60000 [==============================] - 1s 15us/sample - loss: 0.3980 - acc: 0.8633\n",
            "Epoch 29/100\n",
            "60000/60000 [==============================] - 1s 15us/sample - loss: 0.3953 - acc: 0.8644\n",
            "Epoch 30/100\n",
            "60000/60000 [==============================] - 1s 16us/sample - loss: 0.3929 - acc: 0.8650\n",
            "Epoch 31/100\n",
            "60000/60000 [==============================] - 1s 15us/sample - loss: 0.3909 - acc: 0.8661\n",
            "Epoch 32/100\n",
            "60000/60000 [==============================] - 1s 15us/sample - loss: 0.3884 - acc: 0.8673\n",
            "Epoch 33/100\n",
            "60000/60000 [==============================] - 1s 15us/sample - loss: 0.3865 - acc: 0.8684\n",
            "Epoch 34/100\n",
            "60000/60000 [==============================] - 1s 15us/sample - loss: 0.3845 - acc: 0.8682\n",
            "Epoch 35/100\n",
            "60000/60000 [==============================] - 1s 15us/sample - loss: 0.3823 - acc: 0.8686\n",
            "Epoch 36/100\n",
            "60000/60000 [==============================] - 1s 15us/sample - loss: 0.3805 - acc: 0.8696\n",
            "Epoch 37/100\n",
            "60000/60000 [==============================] - 1s 15us/sample - loss: 0.3784 - acc: 0.8698\n",
            "Epoch 38/100\n",
            "60000/60000 [==============================] - 1s 15us/sample - loss: 0.3767 - acc: 0.8707\n",
            "Epoch 39/100\n",
            "60000/60000 [==============================] - 1s 15us/sample - loss: 0.3748 - acc: 0.8716\n",
            "Epoch 40/100\n",
            "60000/60000 [==============================] - 1s 15us/sample - loss: 0.3731 - acc: 0.8720\n",
            "Epoch 41/100\n",
            "60000/60000 [==============================] - 1s 15us/sample - loss: 0.3712 - acc: 0.8727\n",
            "Epoch 42/100\n",
            "60000/60000 [==============================] - 1s 15us/sample - loss: 0.3696 - acc: 0.8728\n",
            "Epoch 43/100\n",
            "60000/60000 [==============================] - 1s 15us/sample - loss: 0.3682 - acc: 0.8733\n",
            "Epoch 44/100\n",
            "60000/60000 [==============================] - 1s 15us/sample - loss: 0.3661 - acc: 0.8746\n",
            "Epoch 45/100\n",
            "60000/60000 [==============================] - 1s 15us/sample - loss: 0.3649 - acc: 0.8751\n",
            "Epoch 46/100\n",
            "60000/60000 [==============================] - 1s 15us/sample - loss: 0.3634 - acc: 0.8757\n",
            "Epoch 47/100\n",
            "60000/60000 [==============================] - 1s 15us/sample - loss: 0.3620 - acc: 0.8751\n",
            "Epoch 48/100\n",
            "60000/60000 [==============================] - 1s 15us/sample - loss: 0.3604 - acc: 0.8759\n",
            "Epoch 49/100\n",
            "60000/60000 [==============================] - 1s 15us/sample - loss: 0.3588 - acc: 0.8766\n",
            "Epoch 50/100\n",
            "60000/60000 [==============================] - 1s 15us/sample - loss: 0.3574 - acc: 0.8765\n",
            "Epoch 51/100\n",
            "60000/60000 [==============================] - 1s 15us/sample - loss: 0.3561 - acc: 0.8771\n",
            "Epoch 52/100\n",
            "60000/60000 [==============================] - 1s 16us/sample - loss: 0.3550 - acc: 0.8773\n",
            "Epoch 53/100\n",
            "60000/60000 [==============================] - 1s 15us/sample - loss: 0.3536 - acc: 0.8787\n",
            "Epoch 54/100\n",
            "60000/60000 [==============================] - 1s 15us/sample - loss: 0.3520 - acc: 0.8786\n",
            "Epoch 55/100\n",
            "60000/60000 [==============================] - 1s 15us/sample - loss: 0.3507 - acc: 0.8787\n",
            "Epoch 56/100\n",
            "60000/60000 [==============================] - 1s 15us/sample - loss: 0.3496 - acc: 0.8802\n",
            "Epoch 57/100\n",
            "60000/60000 [==============================] - 1s 14us/sample - loss: 0.3485 - acc: 0.8794\n",
            "Epoch 58/100\n",
            "60000/60000 [==============================] - 1s 15us/sample - loss: 0.3470 - acc: 0.8801\n",
            "Epoch 59/100\n",
            "60000/60000 [==============================] - 1s 15us/sample - loss: 0.3457 - acc: 0.8800\n",
            "Epoch 60/100\n",
            "60000/60000 [==============================] - 1s 15us/sample - loss: 0.3445 - acc: 0.8810\n",
            "Epoch 61/100\n",
            "60000/60000 [==============================] - 1s 15us/sample - loss: 0.3431 - acc: 0.8814\n",
            "Epoch 62/100\n",
            "60000/60000 [==============================] - 1s 15us/sample - loss: 0.3422 - acc: 0.8821\n",
            "Epoch 63/100\n",
            "60000/60000 [==============================] - 1s 15us/sample - loss: 0.3409 - acc: 0.8827\n",
            "Epoch 64/100\n",
            "60000/60000 [==============================] - 1s 15us/sample - loss: 0.3399 - acc: 0.8828\n",
            "Epoch 65/100\n",
            "60000/60000 [==============================] - 1s 15us/sample - loss: 0.3386 - acc: 0.8831\n",
            "Epoch 66/100\n",
            "60000/60000 [==============================] - 1s 15us/sample - loss: 0.3376 - acc: 0.8834\n",
            "Epoch 67/100\n",
            "60000/60000 [==============================] - 1s 15us/sample - loss: 0.3361 - acc: 0.8837\n",
            "Epoch 68/100\n",
            "60000/60000 [==============================] - 1s 15us/sample - loss: 0.3355 - acc: 0.8841\n",
            "Epoch 69/100\n",
            "60000/60000 [==============================] - 1s 15us/sample - loss: 0.3345 - acc: 0.8842\n",
            "Epoch 70/100\n",
            "60000/60000 [==============================] - 1s 15us/sample - loss: 0.3332 - acc: 0.8853\n",
            "Epoch 71/100\n",
            "60000/60000 [==============================] - 1s 15us/sample - loss: 0.3320 - acc: 0.8843\n",
            "Epoch 72/100\n",
            "60000/60000 [==============================] - 1s 15us/sample - loss: 0.3310 - acc: 0.8852\n",
            "Epoch 73/100\n",
            "60000/60000 [==============================] - 1s 15us/sample - loss: 0.3304 - acc: 0.8850\n",
            "Epoch 74/100\n",
            "60000/60000 [==============================] - 1s 15us/sample - loss: 0.3291 - acc: 0.8858\n",
            "Epoch 75/100\n",
            "60000/60000 [==============================] - 1s 15us/sample - loss: 0.3281 - acc: 0.8861\n",
            "Epoch 76/100\n",
            "60000/60000 [==============================] - 1s 15us/sample - loss: 0.3274 - acc: 0.8867\n",
            "Epoch 77/100\n",
            "60000/60000 [==============================] - 1s 15us/sample - loss: 0.3264 - acc: 0.8865\n",
            "Epoch 78/100\n",
            "60000/60000 [==============================] - 1s 15us/sample - loss: 0.3252 - acc: 0.8878\n",
            "Epoch 79/100\n",
            "60000/60000 [==============================] - 1s 15us/sample - loss: 0.3243 - acc: 0.8874\n",
            "Epoch 80/100\n",
            "60000/60000 [==============================] - 1s 15us/sample - loss: 0.3234 - acc: 0.8875\n",
            "Epoch 81/100\n",
            "60000/60000 [==============================] - 1s 15us/sample - loss: 0.3222 - acc: 0.8882\n",
            "Epoch 82/100\n",
            "60000/60000 [==============================] - 1s 15us/sample - loss: 0.3214 - acc: 0.8884\n",
            "Epoch 83/100\n",
            "60000/60000 [==============================] - 1s 15us/sample - loss: 0.3205 - acc: 0.8883\n",
            "Epoch 84/100\n",
            "60000/60000 [==============================] - 1s 14us/sample - loss: 0.3197 - acc: 0.8882\n",
            "Epoch 85/100\n",
            "60000/60000 [==============================] - 1s 15us/sample - loss: 0.3189 - acc: 0.8891\n",
            "Epoch 86/100\n",
            "60000/60000 [==============================] - 1s 15us/sample - loss: 0.3173 - acc: 0.8896\n",
            "Epoch 87/100\n",
            "60000/60000 [==============================] - 1s 15us/sample - loss: 0.3170 - acc: 0.8902\n",
            "Epoch 88/100\n",
            "60000/60000 [==============================] - 1s 15us/sample - loss: 0.3161 - acc: 0.8897\n",
            "Epoch 89/100\n",
            "60000/60000 [==============================] - 1s 15us/sample - loss: 0.3152 - acc: 0.8904\n",
            "Epoch 90/100\n",
            "60000/60000 [==============================] - 1s 15us/sample - loss: 0.3144 - acc: 0.8904\n",
            "Epoch 91/100\n",
            "60000/60000 [==============================] - 1s 15us/sample - loss: 0.3132 - acc: 0.8908\n",
            "Epoch 92/100\n",
            "60000/60000 [==============================] - 1s 15us/sample - loss: 0.3126 - acc: 0.8913\n",
            "Epoch 93/100\n",
            "60000/60000 [==============================] - 1s 15us/sample - loss: 0.3120 - acc: 0.8909\n",
            "Epoch 94/100\n",
            "60000/60000 [==============================] - 1s 15us/sample - loss: 0.3108 - acc: 0.8917\n",
            "Epoch 95/100\n",
            "60000/60000 [==============================] - 1s 16us/sample - loss: 0.3096 - acc: 0.8915\n",
            "Epoch 96/100\n",
            "60000/60000 [==============================] - 1s 15us/sample - loss: 0.3091 - acc: 0.8921\n",
            "Epoch 97/100\n",
            "60000/60000 [==============================] - 1s 15us/sample - loss: 0.3080 - acc: 0.8921\n",
            "Epoch 98/100\n",
            "60000/60000 [==============================] - 1s 15us/sample - loss: 0.3076 - acc: 0.8927\n",
            "Epoch 99/100\n",
            "60000/60000 [==============================] - 1s 16us/sample - loss: 0.3069 - acc: 0.8933\n",
            "Epoch 100/100\n",
            "60000/60000 [==============================] - 1s 15us/sample - loss: 0.3057 - acc: 0.8931\n"
          ],
          "name": "stdout"
        },
        {
          "output_type": "execute_result",
          "data": {
            "text/plain": [
              "<tensorflow.python.keras.callbacks.History at 0x7f1a34ddd860>"
            ]
          },
          "metadata": {
            "tags": []
          },
          "execution_count": 12
        }
      ]
    },
    {
      "cell_type": "markdown",
      "metadata": {
        "id": "7vMx5V5QMYlW",
        "colab_type": "text"
      },
      "source": [
        "## Используем сеть для распознавания моделей одежды"
      ]
    },
    {
      "cell_type": "markdown",
      "metadata": {
        "id": "zIp6VqoPbAIP",
        "colab_type": "text"
      },
      "source": [
        "**Запускаем распознавание набора данных, на котором обучалась сеть**"
      ]
    },
    {
      "cell_type": "code",
      "metadata": {
        "id": "LeCFZIawa_mk",
        "colab_type": "code",
        "colab": {}
      },
      "source": [
        "predictions = model.predict(x_train)"
      ],
      "execution_count": 0,
      "outputs": []
    },
    {
      "cell_type": "markdown",
      "metadata": {
        "id": "khgNsNfmbLYQ",
        "colab_type": "text"
      },
      "source": [
        "**Проверяем качество распознавания**\n",
        "\n",
        "Просматриваем пример изображения"
      ]
    },
    {
      "cell_type": "code",
      "metadata": {
        "id": "7wpTPK9rbyZ8",
        "colab_type": "code",
        "outputId": "1e8b5aae-e3ab-412a-e84a-6726733974db",
        "colab": {
          "base_uri": "https://localhost:8080/",
          "height": 264
        }
      },
      "source": [
        "# Меняйте значение n чтобы просмотреть результаты распознавания других изображений\n",
        "n = 3\n",
        "plt.imshow(x_train[n].reshape(28, 28), cmap=plt.cm.binary)\n",
        "plt.show()"
      ],
      "execution_count": 18,
      "outputs": [
        {
          "output_type": "display_data",
          "data": {
            "image/png": "[encoded data removed]",
            "text/plain": [
              "<Figure size 432x288 with 1 Axes>"
            ]
          },
          "metadata": {
            "tags": []
          }
        }
      ]
    },
    {
      "cell_type": "markdown",
      "metadata": {
        "id": "WF1KaVz1bvo0",
        "colab_type": "text"
      },
      "source": [
        "Данные на выходе из сети в формате one-hot-encoding"
      ]
    },
    {
      "cell_type": "code",
      "metadata": {
        "id": "-AGygAcPMd0G",
        "colab_type": "code",
        "outputId": "9dc1b3a5-d24a-453c-f92e-cd52471cf9f6",
        "colab": {
          "base_uri": "https://localhost:8080/",
          "height": 70
        }
      },
      "source": [
        "print(predictions[n])"
      ],
      "execution_count": 19,
      "outputs": [
        {
          "output_type": "stream",
          "text": [
            "[2.87138820e-01 1.01346765e-02 6.90467516e-03 4.03954029e-01\n",
            " 6.68511551e-04 2.70752196e-07 2.90462047e-01 3.15771194e-06\n",
            " 7.33731198e-04 1.78799851e-07]\n"
          ],
          "name": "stdout"
        }
      ]
    },
    {
      "cell_type": "markdown",
      "metadata": {
        "id": "4sCW5P3LbeNG",
        "colab_type": "text"
      },
      "source": [
        "Определяем номер класса изображения, который предлагает сеть"
      ]
    },
    {
      "cell_type": "code",
      "metadata": {
        "id": "1MRUTG4Abjl_",
        "colab_type": "code",
        "outputId": "29c21c2a-df1f-49c8-c0f2-ede96fa3d73e",
        "colab": {
          "base_uri": "https://localhost:8080/",
          "height": 34
        }
      },
      "source": [
        "np.argmax(predictions[n])"
      ],
      "execution_count": 20,
      "outputs": [
        {
          "output_type": "execute_result",
          "data": {
            "text/plain": [
              "3"
            ]
          },
          "metadata": {
            "tags": []
          },
          "execution_count": 20
        }
      ]
    },
    {
      "cell_type": "markdown",
      "metadata": {
        "id": "Cfivr4eubnkV",
        "colab_type": "text"
      },
      "source": [
        "Печатаем название класса"
      ]
    },
    {
      "cell_type": "code",
      "metadata": {
        "id": "kXt5bMC6bqBt",
        "colab_type": "code",
        "outputId": "18a6df91-7572-46e5-9ea5-2e8da8dc9497",
        "colab": {
          "base_uri": "https://localhost:8080/",
          "height": 34
        }
      },
      "source": [
        "classes[np.argmax(predictions[n])]"
      ],
      "execution_count": 21,
      "outputs": [
        {
          "output_type": "execute_result",
          "data": {
            "text/plain": [
              "'платье'"
            ]
          },
          "metadata": {
            "tags": []
          },
          "execution_count": 21
        }
      ]
    },
    {
      "cell_type": "markdown",
      "metadata": {
        "id": "uoona52LcRfF",
        "colab_type": "text"
      },
      "source": [
        "Печатаем номер класса правильного ответа"
      ]
    },
    {
      "cell_type": "code",
      "metadata": {
        "id": "67BTH8tgcUvM",
        "colab_type": "code",
        "outputId": "d087e9a3-c10c-4cec-8b9b-8bae0e429254",
        "colab": {
          "base_uri": "https://localhost:8080/",
          "height": 34
        }
      },
      "source": [
        "np.argmax(y_train[n])"
      ],
      "execution_count": 22,
      "outputs": [
        {
          "output_type": "execute_result",
          "data": {
            "text/plain": [
              "3"
            ]
          },
          "metadata": {
            "tags": []
          },
          "execution_count": 22
        }
      ]
    },
    {
      "cell_type": "markdown",
      "metadata": {
        "id": "Zk-doqGMchGE",
        "colab_type": "text"
      },
      "source": [
        "Печатаем название класса правильного ответа"
      ]
    },
    {
      "cell_type": "code",
      "metadata": {
        "id": "JF5G29Xvcc_r",
        "colab_type": "code",
        "outputId": "a6d86b35-66bf-42a4-cd06-9997a651dee8",
        "colab": {
          "base_uri": "https://localhost:8080/",
          "height": 34
        }
      },
      "source": [
        "classes[np.argmax(y_train[n])]"
      ],
      "execution_count": 23,
      "outputs": [
        {
          "output_type": "execute_result",
          "data": {
            "text/plain": [
              "'платье'"
            ]
          },
          "metadata": {
            "tags": []
          },
          "execution_count": 23
        }
      ]
    }
  ]
}